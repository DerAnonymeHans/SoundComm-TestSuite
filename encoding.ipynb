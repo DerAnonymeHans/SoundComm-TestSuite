﻿{
 "cells": [
  {
   "cell_type": "code",
   "id": "initial_id",
   "metadata": {
    "collapsed": true,
    "ExecuteTime": {
     "end_time": "2024-12-28T18:47:56.386965Z",
     "start_time": "2024-12-28T18:47:55.903532Z"
    }
   },
   "source": [
    "import math        #import needed modules\n",
    "import pyaudio     #sudo apt-get install python-pyaudio\n",
    "\n",
    "PyAudio = pyaudio.PyAudio     #initialize pyaudio\n",
    "\n",
    "#See https://en.wikipedia.org/wiki/Bit_rate#Audio\n",
    "BITRATE = 16000     #number of frames per second/frameset.      \n",
    "\n",
    "FREQUENCY = 200     #Hz, waves per second, 261.63=C4-note.\n",
    "LENGTH = 0.5     #seconds to play sound\n",
    "\n",
    "BITRATE = max(BITRATE, FREQUENCY+100)\n",
    "\n",
    "NUMBEROFFRAMES = int(BITRATE * LENGTH)\n",
    "RESTFRAMES = NUMBEROFFRAMES % BITRATE\n",
    "WAVEDATA = ''\n",
    "\n",
    "#generating wawes\n",
    "for x in range(NUMBEROFFRAMES):\n",
    "    value = math.sin(x/((BITRATE/FREQUENCY)/math.pi))*127+128\n",
    "    WAVEDATA = WAVEDATA+chr(int(value))\n",
    "\n",
    "# for x in range(RESTFRAMES):\n",
    "#     WAVEDATA = WAVEDATA+chr(128)\n",
    "\n",
    "p = PyAudio()\n",
    "stream = p.open(format = p.get_format_from_width(1),\n",
    "                channels = 2,\n",
    "                rate = BITRATE,\n",
    "                output = True)\n",
    "\n",
    "stream.write(WAVEDATA)\n",
    "stream.stop_stream()\n",
    "stream.close()\n",
    "p.terminate()\n"
   ],
   "execution_count": 2,
   "outputs": []
  },
  {
   "metadata": {
    "ExecuteTime": {
     "end_time": "2024-12-28T18:48:13.205990Z",
     "start_time": "2024-12-28T18:47:56.387971Z"
    }
   },
   "cell_type": "code",
   "source": [
    "from pydub import AudioSegment\n",
    "from pydub.playback import play\n",
    "\n",
    "sound = AudioSegment.from_file(\"./input_audio_files/short.wav\", format=\"wav\")\n",
    "play(sound)"
   ],
   "id": "73a74c573bbf5089",
   "execution_count": 3,
   "outputs": []
  },
  {
   "metadata": {},
   "cell_type": "markdown",
   "source": "## Generate audio segment of frequency",
   "id": "47676746ecf31779"
  },
  {
   "metadata": {
    "ExecuteTime": {
     "end_time": "2024-12-28T18:48:13.210398Z",
     "start_time": "2024-12-28T18:48:13.205990Z"
    }
   },
   "cell_type": "code",
   "source": [
    "from pydub import AudioSegment\n",
    "from pydub.playback import play\n",
    "\n",
    "def generate_audio_segment(frequency, duration, sample_rate: int = 44100) -> AudioSegment:\n",
    "    num_samples = int(sample_rate * duration)\n",
    "    amplitude = 2**15-1  # Max amplitude for 16-bit audio (2 bytes)\n",
    "\n",
    "    wave_data = bytearray()\n",
    "    for i in range(num_samples):\n",
    "        sample = amplitude * math.sin(2 * math.pi * frequency * i / sample_rate)\n",
    "        wave_data.extend(int.to_bytes(int(sample), length=2, signed=True, byteorder=\"little\")) \n",
    "\n",
    "    audio = AudioSegment(\n",
    "        data=bytes(wave_data),\n",
    "        sample_width=2, \n",
    "        frame_rate=sample_rate,\n",
    "        channels=1\n",
    "    )\n",
    "    return audio\n",
    "\n",
    "# sound = generate_audio_segment(200, 0.1)\n",
    "# play(sound)"
   ],
   "id": "acb13337ad39f33e",
   "execution_count": 4,
   "outputs": []
  },
  {
   "metadata": {},
   "cell_type": "markdown",
   "source": "## Display audio segment",
   "id": "815836cc50b1fcf4"
  },
  {
   "metadata": {
    "ExecuteTime": {
     "end_time": "2024-12-28T18:48:13.506301Z",
     "start_time": "2024-12-28T18:48:13.211403Z"
    }
   },
   "cell_type": "code",
   "source": [
    "import matplotlib.pyplot as plt\n",
    "import numpy as np\n",
    "\n",
    "def plot_audio_segment(audio: AudioSegment):\n",
    "    samples = np.array(audio.get_array_of_samples())\n",
    "\n",
    "    # Create time axis in seconds\n",
    "    sample_rate = audio.frame_rate\n",
    "    duration = len(samples) / sample_rate\n",
    "    time_axis = np.linspace(0, duration, num=len(samples))\n",
    "\n",
    "    # Plot the waveform\n",
    "    plt.figure(figsize=(10, 4))\n",
    "    plt.plot(time_axis, samples, label=\"Waveform\")\n",
    "    plt.title(\"Audio Waveform\")\n",
    "    plt.xlabel(\"Time (s)\")\n",
    "    plt.ylabel(\"Amplitude\")\n",
    "    plt.grid()\n",
    "    plt.legend()\n",
    "    plt.tight_layout()\n",
    "    plt.show()"
   ],
   "id": "39f169fa6b223d7e",
   "execution_count": 5,
   "outputs": []
  },
  {
   "metadata": {},
   "cell_type": "markdown",
   "source": "## FM",
   "id": "57697835bd9ae306"
  },
  {
   "metadata": {},
   "cell_type": "markdown",
   "source": "",
   "id": "fa50d0858976e1a"
  },
  {
   "metadata": {
    "ExecuteTime": {
     "end_time": "2024-12-28T18:48:13.696364Z",
     "start_time": "2024-12-28T18:48:13.506301Z"
    }
   },
   "cell_type": "code",
   "source": [
    "def encode_FM_simple(data: bytes, base_frequency: int, bit_duration: float, sample_rate: int = 44100) -> AudioSegment:\n",
    "    audio = AudioSegment.silent(duration=0)\n",
    "    freq_delta =  math.log2(base_frequency) ** 2\n",
    "    for byte in data:\n",
    "        for i in range(8):\n",
    "            bit = (byte >> i) & 1\n",
    "            if bit == 1:\n",
    "                audio += generate_audio_segment(base_frequency + freq_delta, bit_duration, sample_rate)\n",
    "            elif bit == 0:\n",
    "                audio += generate_audio_segment(base_frequency - freq_delta, bit_duration, sample_rate)\n",
    "    return audio\n",
    "\n",
    "DATA = b\"Hi\"\n",
    "audio = encode_FM_simple(DATA, 80, 0.05)\n",
    "# audio -= 15\n",
    "plot_audio_segment(audio)\n",
    "# play(audio)"
   ],
   "id": "a8d8bf4f706e87",
   "execution_count": 6,
   "outputs": []
  },
  {
   "metadata": {
    "ExecuteTime": {
     "end_time": "2024-12-28T18:48:15.015072Z",
     "start_time": "2024-12-28T18:48:13.696364Z"
    }
   },
   "cell_type": "code",
   "source": [
    "def encode_FM_formula(data: bytes, base_frequency: int, bit_duration: float, freq_sensitivity: float, sample_rate: int = 44100) -> AudioSegment:\n",
    "    amplitude = 2**15-1  # Max amplitude for 16-bit audio (2 bytes)\n",
    "    wave_data = bytearray()\n",
    "    num_samples = int(len(data) * 8 * bit_duration * sample_rate)\n",
    "    samples_per_bit = num_samples // (len(data) * 8)\n",
    "    num_samples = samples_per_bit * len(data) * 8\n",
    "    \n",
    "    cum_sum = 0\n",
    "    bit_index = -1\n",
    "    bit = 0\n",
    "    for i in range(num_samples):\n",
    "        if i % samples_per_bit == 0:\n",
    "            bit_index += 1\n",
    "            bit = data[bit_index // 8] >> (7 - bit_index % 8) & 1\n",
    "        \n",
    "        cum_sum += bit\n",
    "        t = i / sample_rate \n",
    "        sample = amplitude * math.cos(2 * math.pi * base_frequency * t + 2 * math.pi * freq_sensitivity * cum_sum / sample_rate)\n",
    "        wave_data.extend(int.to_bytes(int(sample), length=2, signed=True, byteorder=\"little\"))       \n",
    "\n",
    "    audio = AudioSegment(\n",
    "        data=bytes(wave_data),\n",
    "        sample_width=2,\n",
    "        frame_rate=sample_rate,\n",
    "        channels=1\n",
    "    )\n",
    "    return audio\n",
    "\n",
    "DATA = b\"Hello World!\"\n",
    "audio = encode_FM_formula(DATA, 300, 0.01, 500)\n",
    "# audio -= 15\n",
    "plot_audio_segment(audio)\n",
    "play(audio)"
   ],
   "id": "cb7818183ff5e4cc",
   "execution_count": 7,
   "outputs": []
  },
  {
   "metadata": {},
   "cell_type": "markdown",
   "source": "## PM",
   "id": "99922b2bd5f4e504"
  },
  {
   "metadata": {
    "ExecuteTime": {
     "end_time": "2024-12-28T18:48:15.141538Z",
     "start_time": "2024-12-28T18:48:15.015072Z"
    }
   },
   "cell_type": "code",
   "source": [
    "def encode_PM(data: bytes, base_frequency: int, bit_duration: float, angle_shift: float, sample_rate: int = 44100) -> AudioSegment:\n",
    "    amplitude = 2**15-1  # Max amplitude for 16-bit audio (2 bytes)\n",
    "    num_samples = int(len(data) * 8 * bit_duration * sample_rate)\n",
    "    samples_per_bit = num_samples // (len(data) * 8)\n",
    "    num_samples = samples_per_bit * len(data) * 8\n",
    "\n",
    "    wave_data = bytearray()\n",
    "    bit_index = -1\n",
    "    bit = 0\n",
    "    for i in range(num_samples):\n",
    "        if i % samples_per_bit == 0:\n",
    "            bit_index += 1\n",
    "            bit = data[bit_index // 8] >> (7 - bit_index % 8) & 1\n",
    "            \n",
    "        t = i / sample_rate\n",
    "        sample = amplitude * math.cos(2 * math.pi * base_frequency * t + bit * angle_shift)\n",
    "        wave_data.extend(int.to_bytes(int(sample), length=2, signed=True, byteorder=\"little\"))\n",
    "\n",
    "    audio = AudioSegment(\n",
    "        data=bytes(wave_data),\n",
    "        sample_width=2,\n",
    "        frame_rate=sample_rate,\n",
    "        channels=1\n",
    "    )\n",
    "    return audio\n",
    "\n",
    "DATA = b\"Hi\"\n",
    "audio = encode_PM(DATA, 100, 0.01, math.pi)\n",
    "# audio -= 15\n",
    "plot_audio_segment(audio)\n",
    "# play(audio)"
   ],
   "id": "69ce34881f4d1c43",
   "execution_count": 8,
   "outputs": []
  },
  {
   "metadata": {},
   "cell_type": "markdown",
   "source": "## FM + PM",
   "id": "72ac9e099f21e534"
  },
  {
   "metadata": {
    "ExecuteTime": {
     "end_time": "2024-12-28T18:48:15.506967Z",
     "start_time": "2024-12-28T18:48:15.141538Z"
    }
   },
   "cell_type": "code",
   "source": [
    "def encode_FM_PM(data: bytes, base_frequency: int, bit_duration: float, freq_sensitivity: float, angle_shift: float,\n",
    "                      sample_rate: int = 44100) -> AudioSegment:\n",
    "    amplitude = 2 ** 15 - 1 \n",
    "    num_samples = int(len(data) * 8 * bit_duration * sample_rate)\n",
    "    samples_per_bit = num_samples // (len(data) * 8)\n",
    "    num_samples = samples_per_bit * len(data) * 8\n",
    "    \n",
    "    wave_data = bytearray()\n",
    "    cum_sum = 0\n",
    "    bit_index = -1\n",
    "    bit = 0\n",
    "    for i in range(num_samples):\n",
    "        if i % samples_per_bit == 0:\n",
    "            bit_index += 1\n",
    "            bit = data[bit_index // 8] >> (7 - bit_index % 8) & 1\n",
    "\n",
    "        cum_sum += bit\n",
    "        t = i / sample_rate\n",
    "        sample = amplitude * math.cos(\n",
    "            2 * math.pi * base_frequency * t + 2 * math.pi * freq_sensitivity * cum_sum / sample_rate + bit * angle_shift)\n",
    "        wave_data.extend(int.to_bytes(int(sample), length=2, signed=True, byteorder=\"little\"))\n",
    "\n",
    "    audio = AudioSegment(\n",
    "        data=bytes(wave_data),\n",
    "        sample_width=2,\n",
    "        frame_rate=sample_rate,\n",
    "        channels=1\n",
    "    )\n",
    "    return audio\n",
    "\n",
    "\n",
    "DATA = b\"Hi\"\n",
    "audio = encode_FM_PM(DATA, 500, 0.005, 500, math.pi)\n",
    "# audio -= 15\n",
    "plot_audio_segment(audio)\n",
    "play(audio)\n"
   ],
   "id": "b39c0b7ee1ae9928",
   "execution_count": 9,
   "outputs": []
  },
  {
   "metadata": {},
   "cell_type": "markdown",
   "source": "# Decoding",
   "id": "934e64930c44a1b7"
  },
  {
   "metadata": {},
   "cell_type": "markdown",
   "source": "## PM",
   "id": "403130aa7c7907c"
  },
  {
   "metadata": {
    "ExecuteTime": {
     "end_time": "2024-12-28T18:48:15.722481Z",
     "start_time": "2024-12-28T18:48:15.506967Z"
    }
   },
   "cell_type": "code",
   "source": [
    "import math\n",
    "\n",
    "def decode_PM(audio: AudioSegment, bit_duration: float, frequency: int, angle_shift: float) -> bytearray:\n",
    "    samples = audio.get_array_of_samples()\n",
    "    sample_rate = audio.frame_rate\n",
    "    bit_index = 0\n",
    "    bytes = bytearray()\n",
    "    for i in range(0, len(samples), int(bit_duration * sample_rate)):\n",
    "        t = i / sample_rate\n",
    "        \n",
    "        I = samples[i] * math.cos(2 * math.pi * frequency * t)\n",
    "        Q = samples[i] * math.sin(2 * math.pi * frequency * t)\n",
    "        \n",
    "        phase = math.atan2(Q, I)\n",
    "        \n",
    "        bit = 1 if abs(phase) > angle_shift / 2 else 0\n",
    "        if bit_index % 8 == 0:\n",
    "            bytes.append(0)\n",
    "        bytes[-1] |= bit << (7 - bit_index % 8)\n",
    "        \n",
    "        bit_index += 1\n",
    "        \n",
    "    return bytes\n",
    "\n",
    "DATA = b\"Hello World!\"\n",
    "BIT_DURATION = 0.01\n",
    "FREQUENCY = 400\n",
    "audio = encode_PM(DATA, FREQUENCY, BIT_DURATION, math.pi)\n",
    "# play(audio)\n",
    "print(len(audio.get_array_of_samples()))\n",
    "plot_audio_segment(audio)\n",
    "decoded_data = decode_PM(audio, BIT_DURATION, FREQUENCY, math.pi)\n",
    "print(decoded_data.decode())\n",
    "print(len(decoded_data))"
   ],
   "id": "6777409ab4b9320d",
   "execution_count": 10,
   "outputs": []
  },
  {
   "metadata": {
    "ExecuteTime": {
     "end_time": "2024-12-28T18:48:17.172657Z",
     "start_time": "2024-12-28T18:48:15.722985Z"
    }
   },
   "cell_type": "code",
   "source": [
    "import random\n",
    "\n",
    "noise = random.randbytes(int(audio.frame_count()) * audio.frame_width)\n",
    "\n",
    "noise_audio = AudioSegment(data=bytes(noise), sample_width=2, frame_rate=audio.frame_rate, channels=1)\n",
    "noise_audio +=0\n",
    "received_signal = audio.overlay(noise_audio)\n",
    "play(received_signal)\n",
    "plot_audio_segment(received_signal)\n",
    "decoded_data = decode_PM(received_signal, BIT_DURATION, FREQUENCY, math.pi)\n",
    "print(decoded_data)\n"
   ],
   "id": "953cec2976e5ec8c",
   "execution_count": 11,
   "outputs": []
  },
  {
   "metadata": {
    "ExecuteTime": {
     "end_time": "2024-12-28T18:48:17.347375Z",
     "start_time": "2024-12-28T18:48:17.172657Z"
    }
   },
   "cell_type": "code",
   "source": [
    "import os\n",
    "from scipy.io import wavfile\n",
    "\n",
    "files = {}\n",
    "\n",
    "for file in os.listdir(\"./input_audio_files\"):\n",
    "    if not file.endswith(\".wav\"):\n",
    "        continue\n",
    "\n",
    "    files[file] = wavfile.read(f\"./input_audio_files/{file}\")\n",
    "    \n",
    "file = files[\"long.wav\"]\n",
    "sample_rate, aud_data = file"
   ],
   "id": "7a472d1d1890fb3a",
   "execution_count": 12,
   "outputs": []
  },
  {
   "metadata": {
    "ExecuteTime": {
     "end_time": "2024-12-28T18:48:17.353387Z",
     "start_time": "2024-12-28T18:48:17.348378Z"
    }
   },
   "cell_type": "code",
   "source": [
    "from test_suite.helper import bytes_to_bits, bits_to_bytes\n",
    "\n",
    "data = b\"H\"\n",
    "print(data)\n",
    "bits = bytes_to_bits(data)\n",
    "print(bits)\n",
    "print(chr(bits_to_bytes(bits)[0]))"
   ],
   "id": "91d26e5d3fa03208",
   "execution_count": 13,
   "outputs": []
  }
 ],
 "metadata": {
  "kernelspec": {
   "display_name": "Python 3",
   "language": "python",
   "name": "python3"
  },
  "language_info": {
   "codemirror_mode": {
    "name": "ipython",
    "version": 2
   },
   "file_extension": ".py",
   "mimetype": "text/x-python",
   "name": "python",
   "nbconvert_exporter": "python",
   "pygments_lexer": "ipython2",
   "version": "2.7.6"
  }
 },
 "nbformat": 4,
 "nbformat_minor": 5
}
